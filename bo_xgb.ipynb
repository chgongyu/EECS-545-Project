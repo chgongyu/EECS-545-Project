{
  "nbformat": 4,
  "nbformat_minor": 0,
  "metadata": {
    "colab": {
      "name": "bo_xgb.ipynb",
      "provenance": [],
      "collapsed_sections": []
    },
    "kernelspec": {
      "name": "python3",
      "display_name": "Python 3"
    },
    "language_info": {
      "name": "python"
    }
  },
  "cells": [
    {
      "cell_type": "code",
      "metadata": {
        "id": "kj70JHBV4USX",
        "colab": {
          "base_uri": "https://localhost:8080/"
        },
        "outputId": "fd4671d2-fc70-4bb1-f9e6-cc6f95ce53e0"
      },
      "source": [
        "!pip install xgboost\n",
        "!pip install bayesian-optimization"
      ],
      "execution_count": 1,
      "outputs": [
        {
          "output_type": "stream",
          "name": "stdout",
          "text": [
            "Requirement already satisfied: xgboost in /usr/local/lib/python3.7/dist-packages (0.90)\n",
            "Requirement already satisfied: numpy in /usr/local/lib/python3.7/dist-packages (from xgboost) (1.21.5)\n",
            "Requirement already satisfied: scipy in /usr/local/lib/python3.7/dist-packages (from xgboost) (1.4.1)\n",
            "Collecting bayesian-optimization\n",
            "  Downloading bayesian-optimization-1.2.0.tar.gz (14 kB)\n",
            "Requirement already satisfied: numpy>=1.9.0 in /usr/local/lib/python3.7/dist-packages (from bayesian-optimization) (1.21.5)\n",
            "Requirement already satisfied: scipy>=0.14.0 in /usr/local/lib/python3.7/dist-packages (from bayesian-optimization) (1.4.1)\n",
            "Requirement already satisfied: scikit-learn>=0.18.0 in /usr/local/lib/python3.7/dist-packages (from bayesian-optimization) (1.0.2)\n",
            "Requirement already satisfied: joblib>=0.11 in /usr/local/lib/python3.7/dist-packages (from scikit-learn>=0.18.0->bayesian-optimization) (1.1.0)\n",
            "Requirement already satisfied: threadpoolctl>=2.0.0 in /usr/local/lib/python3.7/dist-packages (from scikit-learn>=0.18.0->bayesian-optimization) (3.1.0)\n",
            "Building wheels for collected packages: bayesian-optimization\n",
            "  Building wheel for bayesian-optimization (setup.py) ... \u001b[?25l\u001b[?25hdone\n",
            "  Created wheel for bayesian-optimization: filename=bayesian_optimization-1.2.0-py3-none-any.whl size=11685 sha256=6e4d3057e41c3165d8e4bb54e9784111786711a6394fd42a786f34d6c4b615f2\n",
            "  Stored in directory: /root/.cache/pip/wheels/fd/9b/71/f127d694e02eb40bcf18c7ae9613b88a6be4470f57a8528c5b\n",
            "Successfully built bayesian-optimization\n",
            "Installing collected packages: bayesian-optimization\n",
            "Successfully installed bayesian-optimization-1.2.0\n"
          ]
        }
      ]
    },
    {
      "cell_type": "code",
      "metadata": {
        "id": "ZZJRI9Zl4gHx"
      },
      "source": [
        "import pandas as pd\n",
        "import seaborn as sns\n",
        "import matplotlib.pyplot as plt\n",
        "%matplotlib inline"
      ],
      "execution_count": 2,
      "outputs": []
    },
    {
      "cell_type": "code",
      "source": [
        "from google.colab import drive\n",
        "drive.mount('/content/drive')"
      ],
      "metadata": {
        "colab": {
          "base_uri": "https://localhost:8080/"
        },
        "id": "FyniE4dTjRAa",
        "outputId": "841848a1-235b-46f0-a443-3cd03307b0a7"
      },
      "execution_count": 3,
      "outputs": [
        {
          "output_type": "stream",
          "name": "stdout",
          "text": [
            "Mounted at /content/drive\n"
          ]
        }
      ]
    },
    {
      "cell_type": "code",
      "source": [
        "%cd '/content/drive/My Drive/545'"
      ],
      "metadata": {
        "colab": {
          "base_uri": "https://localhost:8080/"
        },
        "id": "hkijBZ4XjXAD",
        "outputId": "d91518e6-f662-40e2-da49-615aae73a53c"
      },
      "execution_count": 4,
      "outputs": [
        {
          "output_type": "stream",
          "name": "stdout",
          "text": [
            "/content/drive/.shortcut-targets-by-id/1J_PriDjeXBMe5ZgB5xWSbk3VidGot_gP/545\n"
          ]
        }
      ]
    },
    {
      "cell_type": "code",
      "metadata": {
        "colab": {
          "base_uri": "https://localhost:8080/",
          "height": 206
        },
        "id": "LD6qClyK4tCJ",
        "outputId": "39eb957f-90b0-4aed-e434-99d1911790fb"
      },
      "source": [
        "df = pd.read_csv(r'Churn_Modelling.csv')\n",
        "df.head()"
      ],
      "execution_count": 5,
      "outputs": [
        {
          "output_type": "execute_result",
          "data": {
            "text/plain": [
              "   RowNumber  CustomerId   Surname  CreditScore Geography  Gender  Age  \\\n",
              "0          1    15634602  Hargrave          619    France  Female   42   \n",
              "1          2    15647311      Hill          608     Spain  Female   41   \n",
              "2          3    15619304      Onio          502    France  Female   42   \n",
              "3          4    15701354      Boni          699    France  Female   39   \n",
              "4          5    15737888  Mitchell          850     Spain  Female   43   \n",
              "\n",
              "   Tenure    Balance  NumOfProducts  HasCrCard  IsActiveMember  \\\n",
              "0       2       0.00              1          1               1   \n",
              "1       1   83807.86              1          0               1   \n",
              "2       8  159660.80              3          1               0   \n",
              "3       1       0.00              2          0               0   \n",
              "4       2  125510.82              1          1               1   \n",
              "\n",
              "   EstimatedSalary  Exited  \n",
              "0        101348.88       1  \n",
              "1        112542.58       0  \n",
              "2        113931.57       1  \n",
              "3         93826.63       0  \n",
              "4         79084.10       0  "
            ],
            "text/html": [
              "\n",
              "  <div id=\"df-e484f2f0-d0be-4efb-982c-c7c3f0055200\">\n",
              "    <div class=\"colab-df-container\">\n",
              "      <div>\n",
              "<style scoped>\n",
              "    .dataframe tbody tr th:only-of-type {\n",
              "        vertical-align: middle;\n",
              "    }\n",
              "\n",
              "    .dataframe tbody tr th {\n",
              "        vertical-align: top;\n",
              "    }\n",
              "\n",
              "    .dataframe thead th {\n",
              "        text-align: right;\n",
              "    }\n",
              "</style>\n",
              "<table border=\"1\" class=\"dataframe\">\n",
              "  <thead>\n",
              "    <tr style=\"text-align: right;\">\n",
              "      <th></th>\n",
              "      <th>RowNumber</th>\n",
              "      <th>CustomerId</th>\n",
              "      <th>Surname</th>\n",
              "      <th>CreditScore</th>\n",
              "      <th>Geography</th>\n",
              "      <th>Gender</th>\n",
              "      <th>Age</th>\n",
              "      <th>Tenure</th>\n",
              "      <th>Balance</th>\n",
              "      <th>NumOfProducts</th>\n",
              "      <th>HasCrCard</th>\n",
              "      <th>IsActiveMember</th>\n",
              "      <th>EstimatedSalary</th>\n",
              "      <th>Exited</th>\n",
              "    </tr>\n",
              "  </thead>\n",
              "  <tbody>\n",
              "    <tr>\n",
              "      <th>0</th>\n",
              "      <td>1</td>\n",
              "      <td>15634602</td>\n",
              "      <td>Hargrave</td>\n",
              "      <td>619</td>\n",
              "      <td>France</td>\n",
              "      <td>Female</td>\n",
              "      <td>42</td>\n",
              "      <td>2</td>\n",
              "      <td>0.00</td>\n",
              "      <td>1</td>\n",
              "      <td>1</td>\n",
              "      <td>1</td>\n",
              "      <td>101348.88</td>\n",
              "      <td>1</td>\n",
              "    </tr>\n",
              "    <tr>\n",
              "      <th>1</th>\n",
              "      <td>2</td>\n",
              "      <td>15647311</td>\n",
              "      <td>Hill</td>\n",
              "      <td>608</td>\n",
              "      <td>Spain</td>\n",
              "      <td>Female</td>\n",
              "      <td>41</td>\n",
              "      <td>1</td>\n",
              "      <td>83807.86</td>\n",
              "      <td>1</td>\n",
              "      <td>0</td>\n",
              "      <td>1</td>\n",
              "      <td>112542.58</td>\n",
              "      <td>0</td>\n",
              "    </tr>\n",
              "    <tr>\n",
              "      <th>2</th>\n",
              "      <td>3</td>\n",
              "      <td>15619304</td>\n",
              "      <td>Onio</td>\n",
              "      <td>502</td>\n",
              "      <td>France</td>\n",
              "      <td>Female</td>\n",
              "      <td>42</td>\n",
              "      <td>8</td>\n",
              "      <td>159660.80</td>\n",
              "      <td>3</td>\n",
              "      <td>1</td>\n",
              "      <td>0</td>\n",
              "      <td>113931.57</td>\n",
              "      <td>1</td>\n",
              "    </tr>\n",
              "    <tr>\n",
              "      <th>3</th>\n",
              "      <td>4</td>\n",
              "      <td>15701354</td>\n",
              "      <td>Boni</td>\n",
              "      <td>699</td>\n",
              "      <td>France</td>\n",
              "      <td>Female</td>\n",
              "      <td>39</td>\n",
              "      <td>1</td>\n",
              "      <td>0.00</td>\n",
              "      <td>2</td>\n",
              "      <td>0</td>\n",
              "      <td>0</td>\n",
              "      <td>93826.63</td>\n",
              "      <td>0</td>\n",
              "    </tr>\n",
              "    <tr>\n",
              "      <th>4</th>\n",
              "      <td>5</td>\n",
              "      <td>15737888</td>\n",
              "      <td>Mitchell</td>\n",
              "      <td>850</td>\n",
              "      <td>Spain</td>\n",
              "      <td>Female</td>\n",
              "      <td>43</td>\n",
              "      <td>2</td>\n",
              "      <td>125510.82</td>\n",
              "      <td>1</td>\n",
              "      <td>1</td>\n",
              "      <td>1</td>\n",
              "      <td>79084.10</td>\n",
              "      <td>0</td>\n",
              "    </tr>\n",
              "  </tbody>\n",
              "</table>\n",
              "</div>\n",
              "      <button class=\"colab-df-convert\" onclick=\"convertToInteractive('df-e484f2f0-d0be-4efb-982c-c7c3f0055200')\"\n",
              "              title=\"Convert this dataframe to an interactive table.\"\n",
              "              style=\"display:none;\">\n",
              "        \n",
              "  <svg xmlns=\"http://www.w3.org/2000/svg\" height=\"24px\"viewBox=\"0 0 24 24\"\n",
              "       width=\"24px\">\n",
              "    <path d=\"M0 0h24v24H0V0z\" fill=\"none\"/>\n",
              "    <path d=\"M18.56 5.44l.94 2.06.94-2.06 2.06-.94-2.06-.94-.94-2.06-.94 2.06-2.06.94zm-11 1L8.5 8.5l.94-2.06 2.06-.94-2.06-.94L8.5 2.5l-.94 2.06-2.06.94zm10 10l.94 2.06.94-2.06 2.06-.94-2.06-.94-.94-2.06-.94 2.06-2.06.94z\"/><path d=\"M17.41 7.96l-1.37-1.37c-.4-.4-.92-.59-1.43-.59-.52 0-1.04.2-1.43.59L10.3 9.45l-7.72 7.72c-.78.78-.78 2.05 0 2.83L4 21.41c.39.39.9.59 1.41.59.51 0 1.02-.2 1.41-.59l7.78-7.78 2.81-2.81c.8-.78.8-2.07 0-2.86zM5.41 20L4 18.59l7.72-7.72 1.47 1.35L5.41 20z\"/>\n",
              "  </svg>\n",
              "      </button>\n",
              "      \n",
              "  <style>\n",
              "    .colab-df-container {\n",
              "      display:flex;\n",
              "      flex-wrap:wrap;\n",
              "      gap: 12px;\n",
              "    }\n",
              "\n",
              "    .colab-df-convert {\n",
              "      background-color: #E8F0FE;\n",
              "      border: none;\n",
              "      border-radius: 50%;\n",
              "      cursor: pointer;\n",
              "      display: none;\n",
              "      fill: #1967D2;\n",
              "      height: 32px;\n",
              "      padding: 0 0 0 0;\n",
              "      width: 32px;\n",
              "    }\n",
              "\n",
              "    .colab-df-convert:hover {\n",
              "      background-color: #E2EBFA;\n",
              "      box-shadow: 0px 1px 2px rgba(60, 64, 67, 0.3), 0px 1px 3px 1px rgba(60, 64, 67, 0.15);\n",
              "      fill: #174EA6;\n",
              "    }\n",
              "\n",
              "    [theme=dark] .colab-df-convert {\n",
              "      background-color: #3B4455;\n",
              "      fill: #D2E3FC;\n",
              "    }\n",
              "\n",
              "    [theme=dark] .colab-df-convert:hover {\n",
              "      background-color: #434B5C;\n",
              "      box-shadow: 0px 1px 3px 1px rgba(0, 0, 0, 0.15);\n",
              "      filter: drop-shadow(0px 1px 2px rgba(0, 0, 0, 0.3));\n",
              "      fill: #FFFFFF;\n",
              "    }\n",
              "  </style>\n",
              "\n",
              "      <script>\n",
              "        const buttonEl =\n",
              "          document.querySelector('#df-e484f2f0-d0be-4efb-982c-c7c3f0055200 button.colab-df-convert');\n",
              "        buttonEl.style.display =\n",
              "          google.colab.kernel.accessAllowed ? 'block' : 'none';\n",
              "\n",
              "        async function convertToInteractive(key) {\n",
              "          const element = document.querySelector('#df-e484f2f0-d0be-4efb-982c-c7c3f0055200');\n",
              "          const dataTable =\n",
              "            await google.colab.kernel.invokeFunction('convertToInteractive',\n",
              "                                                     [key], {});\n",
              "          if (!dataTable) return;\n",
              "\n",
              "          const docLinkHtml = 'Like what you see? Visit the ' +\n",
              "            '<a target=\"_blank\" href=https://colab.research.google.com/notebooks/data_table.ipynb>data table notebook</a>'\n",
              "            + ' to learn more about interactive tables.';\n",
              "          element.innerHTML = '';\n",
              "          dataTable['output_type'] = 'display_data';\n",
              "          await google.colab.output.renderOutput(dataTable, element);\n",
              "          const docLink = document.createElement('div');\n",
              "          docLink.innerHTML = docLinkHtml;\n",
              "          element.appendChild(docLink);\n",
              "        }\n",
              "      </script>\n",
              "    </div>\n",
              "  </div>\n",
              "  "
            ]
          },
          "metadata": {},
          "execution_count": 5
        }
      ]
    },
    {
      "cell_type": "code",
      "metadata": {
        "colab": {
          "base_uri": "https://localhost:8080/"
        },
        "id": "4pOBnVXa5-Rn",
        "outputId": "c6dd850c-d872-4402-8d10-16d5fc8e9085"
      },
      "source": [
        "df.shape"
      ],
      "execution_count": 6,
      "outputs": [
        {
          "output_type": "execute_result",
          "data": {
            "text/plain": [
              "(10000, 14)"
            ]
          },
          "metadata": {},
          "execution_count": 6
        }
      ]
    },
    {
      "cell_type": "code",
      "metadata": {
        "id": "hxkxCZf04zqC"
      },
      "source": [
        "#Getting the independent features\n",
        "X = df.iloc[:,3:-1]\n",
        "#Getting the dependent feature\n",
        "y = df.iloc[:,-1]"
      ],
      "execution_count": 7,
      "outputs": []
    },
    {
      "cell_type": "code",
      "metadata": {
        "colab": {
          "base_uri": "https://localhost:8080/",
          "height": 206
        },
        "id": "Zs8W9Aoc43Z2",
        "outputId": "88716629-3095-492f-a82d-b055a4f54d5b"
      },
      "source": [
        "#Dummy variable for 'Geography' column\n",
        "geography = pd.get_dummies(X['Geography'], drop_first = True)\n",
        "#Dummy variable for 'Gender' column\n",
        "gender = pd.get_dummies(X['Gender'], drop_first = True)\n",
        "\n",
        "#Dropping the original 'Geography' and 'Gender' columns\n",
        "X = X.drop(['Geography','Gender'], axis = 1)\n",
        "\n",
        "#Adding the dummy columns to the dataset\n",
        "X = pd.concat([X,geography,gender], axis = 1)\n",
        "X.head()"
      ],
      "execution_count": 8,
      "outputs": [
        {
          "output_type": "execute_result",
          "data": {
            "text/plain": [
              "   CreditScore  Age  Tenure    Balance  NumOfProducts  HasCrCard  \\\n",
              "0          619   42       2       0.00              1          1   \n",
              "1          608   41       1   83807.86              1          0   \n",
              "2          502   42       8  159660.80              3          1   \n",
              "3          699   39       1       0.00              2          0   \n",
              "4          850   43       2  125510.82              1          1   \n",
              "\n",
              "   IsActiveMember  EstimatedSalary  Germany  Spain  Male  \n",
              "0               1        101348.88        0      0     0  \n",
              "1               1        112542.58        0      1     0  \n",
              "2               0        113931.57        0      0     0  \n",
              "3               0         93826.63        0      0     0  \n",
              "4               1         79084.10        0      1     0  "
            ],
            "text/html": [
              "\n",
              "  <div id=\"df-0a8c64ad-e79b-4da2-a58c-75f42e110c98\">\n",
              "    <div class=\"colab-df-container\">\n",
              "      <div>\n",
              "<style scoped>\n",
              "    .dataframe tbody tr th:only-of-type {\n",
              "        vertical-align: middle;\n",
              "    }\n",
              "\n",
              "    .dataframe tbody tr th {\n",
              "        vertical-align: top;\n",
              "    }\n",
              "\n",
              "    .dataframe thead th {\n",
              "        text-align: right;\n",
              "    }\n",
              "</style>\n",
              "<table border=\"1\" class=\"dataframe\">\n",
              "  <thead>\n",
              "    <tr style=\"text-align: right;\">\n",
              "      <th></th>\n",
              "      <th>CreditScore</th>\n",
              "      <th>Age</th>\n",
              "      <th>Tenure</th>\n",
              "      <th>Balance</th>\n",
              "      <th>NumOfProducts</th>\n",
              "      <th>HasCrCard</th>\n",
              "      <th>IsActiveMember</th>\n",
              "      <th>EstimatedSalary</th>\n",
              "      <th>Germany</th>\n",
              "      <th>Spain</th>\n",
              "      <th>Male</th>\n",
              "    </tr>\n",
              "  </thead>\n",
              "  <tbody>\n",
              "    <tr>\n",
              "      <th>0</th>\n",
              "      <td>619</td>\n",
              "      <td>42</td>\n",
              "      <td>2</td>\n",
              "      <td>0.00</td>\n",
              "      <td>1</td>\n",
              "      <td>1</td>\n",
              "      <td>1</td>\n",
              "      <td>101348.88</td>\n",
              "      <td>0</td>\n",
              "      <td>0</td>\n",
              "      <td>0</td>\n",
              "    </tr>\n",
              "    <tr>\n",
              "      <th>1</th>\n",
              "      <td>608</td>\n",
              "      <td>41</td>\n",
              "      <td>1</td>\n",
              "      <td>83807.86</td>\n",
              "      <td>1</td>\n",
              "      <td>0</td>\n",
              "      <td>1</td>\n",
              "      <td>112542.58</td>\n",
              "      <td>0</td>\n",
              "      <td>1</td>\n",
              "      <td>0</td>\n",
              "    </tr>\n",
              "    <tr>\n",
              "      <th>2</th>\n",
              "      <td>502</td>\n",
              "      <td>42</td>\n",
              "      <td>8</td>\n",
              "      <td>159660.80</td>\n",
              "      <td>3</td>\n",
              "      <td>1</td>\n",
              "      <td>0</td>\n",
              "      <td>113931.57</td>\n",
              "      <td>0</td>\n",
              "      <td>0</td>\n",
              "      <td>0</td>\n",
              "    </tr>\n",
              "    <tr>\n",
              "      <th>3</th>\n",
              "      <td>699</td>\n",
              "      <td>39</td>\n",
              "      <td>1</td>\n",
              "      <td>0.00</td>\n",
              "      <td>2</td>\n",
              "      <td>0</td>\n",
              "      <td>0</td>\n",
              "      <td>93826.63</td>\n",
              "      <td>0</td>\n",
              "      <td>0</td>\n",
              "      <td>0</td>\n",
              "    </tr>\n",
              "    <tr>\n",
              "      <th>4</th>\n",
              "      <td>850</td>\n",
              "      <td>43</td>\n",
              "      <td>2</td>\n",
              "      <td>125510.82</td>\n",
              "      <td>1</td>\n",
              "      <td>1</td>\n",
              "      <td>1</td>\n",
              "      <td>79084.10</td>\n",
              "      <td>0</td>\n",
              "      <td>1</td>\n",
              "      <td>0</td>\n",
              "    </tr>\n",
              "  </tbody>\n",
              "</table>\n",
              "</div>\n",
              "      <button class=\"colab-df-convert\" onclick=\"convertToInteractive('df-0a8c64ad-e79b-4da2-a58c-75f42e110c98')\"\n",
              "              title=\"Convert this dataframe to an interactive table.\"\n",
              "              style=\"display:none;\">\n",
              "        \n",
              "  <svg xmlns=\"http://www.w3.org/2000/svg\" height=\"24px\"viewBox=\"0 0 24 24\"\n",
              "       width=\"24px\">\n",
              "    <path d=\"M0 0h24v24H0V0z\" fill=\"none\"/>\n",
              "    <path d=\"M18.56 5.44l.94 2.06.94-2.06 2.06-.94-2.06-.94-.94-2.06-.94 2.06-2.06.94zm-11 1L8.5 8.5l.94-2.06 2.06-.94-2.06-.94L8.5 2.5l-.94 2.06-2.06.94zm10 10l.94 2.06.94-2.06 2.06-.94-2.06-.94-.94-2.06-.94 2.06-2.06.94z\"/><path d=\"M17.41 7.96l-1.37-1.37c-.4-.4-.92-.59-1.43-.59-.52 0-1.04.2-1.43.59L10.3 9.45l-7.72 7.72c-.78.78-.78 2.05 0 2.83L4 21.41c.39.39.9.59 1.41.59.51 0 1.02-.2 1.41-.59l7.78-7.78 2.81-2.81c.8-.78.8-2.07 0-2.86zM5.41 20L4 18.59l7.72-7.72 1.47 1.35L5.41 20z\"/>\n",
              "  </svg>\n",
              "      </button>\n",
              "      \n",
              "  <style>\n",
              "    .colab-df-container {\n",
              "      display:flex;\n",
              "      flex-wrap:wrap;\n",
              "      gap: 12px;\n",
              "    }\n",
              "\n",
              "    .colab-df-convert {\n",
              "      background-color: #E8F0FE;\n",
              "      border: none;\n",
              "      border-radius: 50%;\n",
              "      cursor: pointer;\n",
              "      display: none;\n",
              "      fill: #1967D2;\n",
              "      height: 32px;\n",
              "      padding: 0 0 0 0;\n",
              "      width: 32px;\n",
              "    }\n",
              "\n",
              "    .colab-df-convert:hover {\n",
              "      background-color: #E2EBFA;\n",
              "      box-shadow: 0px 1px 2px rgba(60, 64, 67, 0.3), 0px 1px 3px 1px rgba(60, 64, 67, 0.15);\n",
              "      fill: #174EA6;\n",
              "    }\n",
              "\n",
              "    [theme=dark] .colab-df-convert {\n",
              "      background-color: #3B4455;\n",
              "      fill: #D2E3FC;\n",
              "    }\n",
              "\n",
              "    [theme=dark] .colab-df-convert:hover {\n",
              "      background-color: #434B5C;\n",
              "      box-shadow: 0px 1px 3px 1px rgba(0, 0, 0, 0.15);\n",
              "      filter: drop-shadow(0px 1px 2px rgba(0, 0, 0, 0.3));\n",
              "      fill: #FFFFFF;\n",
              "    }\n",
              "  </style>\n",
              "\n",
              "      <script>\n",
              "        const buttonEl =\n",
              "          document.querySelector('#df-0a8c64ad-e79b-4da2-a58c-75f42e110c98 button.colab-df-convert');\n",
              "        buttonEl.style.display =\n",
              "          google.colab.kernel.accessAllowed ? 'block' : 'none';\n",
              "\n",
              "        async function convertToInteractive(key) {\n",
              "          const element = document.querySelector('#df-0a8c64ad-e79b-4da2-a58c-75f42e110c98');\n",
              "          const dataTable =\n",
              "            await google.colab.kernel.invokeFunction('convertToInteractive',\n",
              "                                                     [key], {});\n",
              "          if (!dataTable) return;\n",
              "\n",
              "          const docLinkHtml = 'Like what you see? Visit the ' +\n",
              "            '<a target=\"_blank\" href=https://colab.research.google.com/notebooks/data_table.ipynb>data table notebook</a>'\n",
              "            + ' to learn more about interactive tables.';\n",
              "          element.innerHTML = '';\n",
              "          dataTable['output_type'] = 'display_data';\n",
              "          await google.colab.output.renderOutput(dataTable, element);\n",
              "          const docLink = document.createElement('div');\n",
              "          docLink.innerHTML = docLinkHtml;\n",
              "          element.appendChild(docLink);\n",
              "        }\n",
              "      </script>\n",
              "    </div>\n",
              "  </div>\n",
              "  "
            ]
          },
          "metadata": {},
          "execution_count": 8
        }
      ]
    },
    {
      "cell_type": "code",
      "metadata": {
        "id": "yQwe_W4b46KI"
      },
      "source": [
        "## Hyperparameter optimization using Bayesian Optimization\n",
        "\n",
        "import xgboost as xgb\n",
        "from scipy.stats import loguniform\n",
        "import numpy as np\n",
        "from sklearn.model_selection import cross_val_score\n",
        "from bayes_opt import BayesianOptimization\n",
        "import matplotlib.pyplot as plt\n"
      ],
      "execution_count": 9,
      "outputs": []
    },
    {
      "cell_type": "code",
      "source": [
        "global_parms = {\"booster\"         : \"gbtree\", \n",
        "                \"missing\"         : None,\n",
        "                \"n_estimators\"    : 100, \n",
        "                \"n_jobs\"          : 1, \n",
        "                \"objective\"       : 'binary:logistic', \n",
        "                \"random_state\"    : 545, \n",
        "                \"scale_pos_weight\": 1, \n",
        "                \"verbosity\"       : 1,\n",
        "                \"eval_metric\"     : 'logloss'\n",
        "}"
      ],
      "metadata": {
        "id": "Ls3i894aqSAW"
      },
      "execution_count": 10,
      "outputs": []
    },
    {
      "cell_type": "code",
      "metadata": {
        "id": "iESqBg5F48X2"
      },
      "source": [
        "params_space={\n",
        " \"base_score\"       : (0.1,0.9),\n",
        " \"colsample_bylevel\": (0.1,1),\n",
        " \"colsample_bynode\" : (0.1,1),\n",
        " \"colsample_bytree\" : (0.1,1),\n",
        " \"learning_rate\"    : (1e-6, 1),\n",
        " \"max_delta_step\"   : (0, 10), # integer\n",
        " \"max_depth\"        : (1, 20), # integer\n",
        " \"min_child_weight\" : (1, 20),\n",
        " \"gamma\"            : (0.1,10),\n",
        " \"subsample\"        : (0.1,1),\n",
        " \"reg_lambda\"       : (1, 9),\n",
        " \"reg_alpha\"        : (1, 9),\n",
        "}"
      ],
      "execution_count": 11,
      "outputs": []
    },
    {
      "cell_type": "code",
      "source": [
        "def bo_tune_xgb(base_score, colsample_bylevel,colsample_bynode,colsample_bytree,learning_rate,max_delta_step,max_depth,min_child_weight,gamma,subsample,reg_lambda,reg_alpha):\n",
        "      xgb_params = {\n",
        "              'base_score': base_score,\n",
        "              'colsample_bylevel':colsample_bylevel,\n",
        "              'colsample_bytree':colsample_bytree,\n",
        "              'colsample_bynode':colsample_bynode,\n",
        "              'learning_rate': learning_rate,\n",
        "              'subsample': subsample,\n",
        "              'gamma': gamma,\n",
        "              'min_child_weight': min_child_weight,\n",
        "              'max_depth': int(max_depth),\n",
        "              'max_delta_step':int(max_delta_step),\n",
        "              'reg_alpha': reg_alpha,\n",
        "              'reg_lambda': reg_lambda,\n",
        "              }   \n",
        "      param_all = global_parms.copy()\n",
        "      param_all.update(xgb_params)\n",
        "      cv_result = xgb.cv(param_all, dtrain, num_boost_round= 100, nfold=3)\n",
        "      return -1.0 * cv_result['test-logloss-mean'].iloc[-1]"
      ],
      "metadata": {
        "id": "AaYKGNFlraZ4"
      },
      "execution_count": 16,
      "outputs": []
    },
    {
      "cell_type": "code",
      "metadata": {
        "id": "Le_X9dUm5Q_Q"
      },
      "source": [
        "def run_xgb(params, X_train, y_train, fold = 10):\n",
        "  param_all = global_parms.copy()\n",
        "  param_all.update(params)\n",
        "  dtrain = xgb.DMatrix(X_train, label = y_train)\n",
        "  cv_result =  xgb.cv(param_all, dtrain, num_boost_round = 70, nfold=fold)\n",
        "  return cv_result['test-logloss-mean'].iloc[-1]"
      ],
      "execution_count": 17,
      "outputs": []
    },
    {
      "cell_type": "code",
      "source": [
        "\n",
        "dtrain = xgb.DMatrix(X, label = y)\n",
        "xgb_bo = BayesianOptimization(bo_tune_xgb, params_space, random_state=545)\n",
        "xgb_bo.maximize(init_points=10, n_iter=20,acq='ucb')\n",
        "\n",
        "\n",
        "best_params = xgb_bo.max['params']\n",
        "print(best_params)# best params\n",
        "best_params['max_depth'] = int(best_params['max_depth'])\n",
        "best_params['max_delta_step'] = int(best_params['max_delta_step'])"
      ],
      "metadata": {
        "id": "8Wb5ww84tM1a",
        "colab": {
          "base_uri": "https://localhost:8080/"
        },
        "outputId": "e61437cc-0aa4-4485-d625-00b904927c35"
      },
      "execution_count": 20,
      "outputs": [
        {
          "output_type": "stream",
          "name": "stdout",
          "text": [
            "|   iter    |  target   | base_s... | colsam... | colsam... | colsam... |   gamma   | learni... | max_de... | max_depth | min_ch... | reg_alpha | reg_la... | subsample |\n",
            "-------------------------------------------------------------------------------------------------------------------------------------------------------------------------\n",
            "| \u001b[0m 1       \u001b[0m | \u001b[0m-0.3553  \u001b[0m | \u001b[0m 0.169   \u001b[0m | \u001b[0m 1.0     \u001b[0m | \u001b[0m 0.1593  \u001b[0m | \u001b[0m 0.2364  \u001b[0m | \u001b[0m 4.2     \u001b[0m | \u001b[0m 0.196   \u001b[0m | \u001b[0m 7.46    \u001b[0m | \u001b[0m 7.755   \u001b[0m | \u001b[0m 17.99   \u001b[0m | \u001b[0m 6.475   \u001b[0m | \u001b[0m 6.452   \u001b[0m | \u001b[0m 0.853   \u001b[0m |\n",
            "| \u001b[95m 2       \u001b[0m | \u001b[95m-0.3518  \u001b[0m | \u001b[95m 0.5418  \u001b[0m | \u001b[95m 0.5417  \u001b[0m | \u001b[95m 0.9914  \u001b[0m | \u001b[95m 0.2887  \u001b[0m | \u001b[95m 0.505   \u001b[0m | \u001b[95m 0.7791  \u001b[0m | \u001b[95m 9.554   \u001b[0m | \u001b[95m 8.806   \u001b[0m | \u001b[95m 3.901   \u001b[0m | \u001b[95m 2.858   \u001b[0m | \u001b[95m 7.247   \u001b[0m | \u001b[95m 0.7661  \u001b[0m |\n",
            "| \u001b[95m 3       \u001b[0m | \u001b[95m-0.3476  \u001b[0m | \u001b[95m 0.6261  \u001b[0m | \u001b[95m 0.8039  \u001b[0m | \u001b[95m 0.9993  \u001b[0m | \u001b[95m 0.519   \u001b[0m | \u001b[95m 8.642   \u001b[0m | \u001b[95m 0.3558  \u001b[0m | \u001b[95m 2.896   \u001b[0m | \u001b[95m 10.43   \u001b[0m | \u001b[95m 19.47   \u001b[0m | \u001b[95m 7.675   \u001b[0m | \u001b[95m 7.034   \u001b[0m | \u001b[95m 0.5463  \u001b[0m |\n",
            "| \u001b[95m 4       \u001b[0m | \u001b[95m-0.3476  \u001b[0m | \u001b[95m 0.8713  \u001b[0m | \u001b[95m 0.146   \u001b[0m | \u001b[95m 0.9755  \u001b[0m | \u001b[95m 0.6991  \u001b[0m | \u001b[95m 2.827   \u001b[0m | \u001b[95m 0.3138  \u001b[0m | \u001b[95m 1.065   \u001b[0m | \u001b[95m 9.985   \u001b[0m | \u001b[95m 17.44   \u001b[0m | \u001b[95m 7.657   \u001b[0m | \u001b[95m 5.164   \u001b[0m | \u001b[95m 0.6813  \u001b[0m |\n",
            "| \u001b[0m 5       \u001b[0m | \u001b[0m-0.3667  \u001b[0m | \u001b[0m 0.8647  \u001b[0m | \u001b[0m 0.2388  \u001b[0m | \u001b[0m 0.9395  \u001b[0m | \u001b[0m 0.4628  \u001b[0m | \u001b[0m 4.146   \u001b[0m | \u001b[0m 0.1656  \u001b[0m | \u001b[0m 0.08676 \u001b[0m | \u001b[0m 9.71    \u001b[0m | \u001b[0m 4.142   \u001b[0m | \u001b[0m 7.678   \u001b[0m | \u001b[0m 1.006   \u001b[0m | \u001b[0m 0.2752  \u001b[0m |\n",
            "| \u001b[0m 6       \u001b[0m | \u001b[0m-0.3777  \u001b[0m | \u001b[0m 0.6368  \u001b[0m | \u001b[0m 0.7634  \u001b[0m | \u001b[0m 0.9031  \u001b[0m | \u001b[0m 0.7629  \u001b[0m | \u001b[0m 1.578   \u001b[0m | \u001b[0m 0.7004  \u001b[0m | \u001b[0m 9.69    \u001b[0m | \u001b[0m 8.124   \u001b[0m | \u001b[0m 14.06   \u001b[0m | \u001b[0m 1.34    \u001b[0m | \u001b[0m 6.005   \u001b[0m | \u001b[0m 0.5499  \u001b[0m |\n",
            "| \u001b[0m 7       \u001b[0m | \u001b[0m-0.3524  \u001b[0m | \u001b[0m 0.8909  \u001b[0m | \u001b[0m 0.516   \u001b[0m | \u001b[0m 0.6491  \u001b[0m | \u001b[0m 0.3724  \u001b[0m | \u001b[0m 2.914   \u001b[0m | \u001b[0m 0.2961  \u001b[0m | \u001b[0m 1.124   \u001b[0m | \u001b[0m 19.11   \u001b[0m | \u001b[0m 9.554   \u001b[0m | \u001b[0m 3.908   \u001b[0m | \u001b[0m 3.035   \u001b[0m | \u001b[0m 0.3019  \u001b[0m |\n",
            "| \u001b[95m 8       \u001b[0m | \u001b[95m-0.3416  \u001b[0m | \u001b[95m 0.3819  \u001b[0m | \u001b[95m 0.6962  \u001b[0m | \u001b[95m 0.641   \u001b[0m | \u001b[95m 0.9369  \u001b[0m | \u001b[95m 5.684   \u001b[0m | \u001b[95m 0.5953  \u001b[0m | \u001b[95m 5.51    \u001b[0m | \u001b[95m 11.72   \u001b[0m | \u001b[95m 4.19    \u001b[0m | \u001b[95m 8.929   \u001b[0m | \u001b[95m 5.61    \u001b[0m | \u001b[95m 0.6927  \u001b[0m |\n",
            "| \u001b[0m 9       \u001b[0m | \u001b[0m-0.352   \u001b[0m | \u001b[0m 0.3108  \u001b[0m | \u001b[0m 0.2527  \u001b[0m | \u001b[0m 0.4012  \u001b[0m | \u001b[0m 0.7899  \u001b[0m | \u001b[0m 1.451   \u001b[0m | \u001b[0m 0.1587  \u001b[0m | \u001b[0m 7.659   \u001b[0m | \u001b[0m 7.191   \u001b[0m | \u001b[0m 18.82   \u001b[0m | \u001b[0m 6.49    \u001b[0m | \u001b[0m 4.161   \u001b[0m | \u001b[0m 0.9147  \u001b[0m |\n",
            "| \u001b[0m 10      \u001b[0m | \u001b[0m-0.3585  \u001b[0m | \u001b[0m 0.7131  \u001b[0m | \u001b[0m 0.7162  \u001b[0m | \u001b[0m 0.5116  \u001b[0m | \u001b[0m 0.9051  \u001b[0m | \u001b[0m 4.364   \u001b[0m | \u001b[0m 0.4367  \u001b[0m | \u001b[0m 3.608   \u001b[0m | \u001b[0m 1.102   \u001b[0m | \u001b[0m 8.442   \u001b[0m | \u001b[0m 7.741   \u001b[0m | \u001b[0m 8.915   \u001b[0m | \u001b[0m 0.5811  \u001b[0m |\n",
            "| \u001b[0m 11      \u001b[0m | \u001b[0m-0.3572  \u001b[0m | \u001b[0m 0.6139  \u001b[0m | \u001b[0m 0.9193  \u001b[0m | \u001b[0m 0.9961  \u001b[0m | \u001b[0m 0.6282  \u001b[0m | \u001b[0m 9.045   \u001b[0m | \u001b[0m 0.8075  \u001b[0m | \u001b[0m 7.335   \u001b[0m | \u001b[0m 15.99   \u001b[0m | \u001b[0m 5.172   \u001b[0m | \u001b[0m 4.015   \u001b[0m | \u001b[0m 5.28    \u001b[0m | \u001b[0m 0.2502  \u001b[0m |\n",
            "| \u001b[95m 12      \u001b[0m | \u001b[95m-0.3403  \u001b[0m | \u001b[95m 0.1986  \u001b[0m | \u001b[95m 0.7077  \u001b[0m | \u001b[95m 0.4185  \u001b[0m | \u001b[95m 0.8975  \u001b[0m | \u001b[95m 4.519   \u001b[0m | \u001b[95m 0.6412  \u001b[0m | \u001b[95m 6.625   \u001b[0m | \u001b[95m 11.75   \u001b[0m | \u001b[95m 4.498   \u001b[0m | \u001b[95m 9.0     \u001b[0m | \u001b[95m 7.029   \u001b[0m | \u001b[95m 0.9455  \u001b[0m |\n",
            "| \u001b[0m 13      \u001b[0m | \u001b[0m-0.3512  \u001b[0m | \u001b[0m 0.1     \u001b[0m | \u001b[0m 0.9814  \u001b[0m | \u001b[0m 0.6241  \u001b[0m | \u001b[0m 1.0     \u001b[0m | \u001b[0m 6.344   \u001b[0m | \u001b[0m 0.8103  \u001b[0m | \u001b[0m 7.813   \u001b[0m | \u001b[0m 10.53   \u001b[0m | \u001b[0m 1.0     \u001b[0m | \u001b[0m 9.0     \u001b[0m | \u001b[0m 7.675   \u001b[0m | \u001b[0m 0.9984  \u001b[0m |\n",
            "| \u001b[0m 14      \u001b[0m | \u001b[0m-0.3497  \u001b[0m | \u001b[0m 0.1     \u001b[0m | \u001b[0m 0.2617  \u001b[0m | \u001b[0m 0.1     \u001b[0m | \u001b[0m 1.0     \u001b[0m | \u001b[0m 5.556   \u001b[0m | \u001b[0m 0.7936  \u001b[0m | \u001b[0m 4.069   \u001b[0m | \u001b[0m 13.11   \u001b[0m | \u001b[0m 6.2     \u001b[0m | \u001b[0m 9.0     \u001b[0m | \u001b[0m 8.818   \u001b[0m | \u001b[0m 1.0     \u001b[0m |\n",
            "| \u001b[0m 15      \u001b[0m | \u001b[0m-0.3522  \u001b[0m | \u001b[0m 0.3454  \u001b[0m | \u001b[0m 0.9811  \u001b[0m | \u001b[0m 0.1254  \u001b[0m | \u001b[0m 1.0     \u001b[0m | \u001b[0m 3.073   \u001b[0m | \u001b[0m 0.1837  \u001b[0m | \u001b[0m 7.92    \u001b[0m | \u001b[0m 13.56   \u001b[0m | \u001b[0m 4.529   \u001b[0m | \u001b[0m 9.0     \u001b[0m | \u001b[0m 4.363   \u001b[0m | \u001b[0m 0.7564  \u001b[0m |\n",
            "| \u001b[0m 16      \u001b[0m | \u001b[0m-0.3502  \u001b[0m | \u001b[0m 0.1059  \u001b[0m | \u001b[0m 0.5509  \u001b[0m | \u001b[0m 1.0     \u001b[0m | \u001b[0m 0.4958  \u001b[0m | \u001b[0m 6.001   \u001b[0m | \u001b[0m 1.0     \u001b[0m | \u001b[0m 7.12    \u001b[0m | \u001b[0m 9.592   \u001b[0m | \u001b[0m 6.235   \u001b[0m | \u001b[0m 9.0     \u001b[0m | \u001b[0m 6.498   \u001b[0m | \u001b[0m 1.0     \u001b[0m |\n",
            "| \u001b[0m 17      \u001b[0m | \u001b[0m-1.855   \u001b[0m | \u001b[0m 0.9     \u001b[0m | \u001b[0m 1.0     \u001b[0m | \u001b[0m 1.0     \u001b[0m | \u001b[0m 1.0     \u001b[0m | \u001b[0m 3.303   \u001b[0m | \u001b[0m 1e-06   \u001b[0m | \u001b[0m 4.715   \u001b[0m | \u001b[0m 11.16   \u001b[0m | \u001b[0m 3.165   \u001b[0m | \u001b[0m 9.0     \u001b[0m | \u001b[0m 7.505   \u001b[0m | \u001b[0m 0.1     \u001b[0m |\n",
            "| \u001b[0m 18      \u001b[0m | \u001b[0m-0.3552  \u001b[0m | \u001b[0m 0.4644  \u001b[0m | \u001b[0m 0.7377  \u001b[0m | \u001b[0m 0.3131  \u001b[0m | \u001b[0m 0.5884  \u001b[0m | \u001b[0m 5.374   \u001b[0m | \u001b[0m 0.9858  \u001b[0m | \u001b[0m 5.947   \u001b[0m | \u001b[0m 12.23   \u001b[0m | \u001b[0m 4.36    \u001b[0m | \u001b[0m 8.737   \u001b[0m | \u001b[0m 7.439   \u001b[0m | \u001b[0m 0.6071  \u001b[0m |\n",
            "| \u001b[0m 19      \u001b[0m | \u001b[0m-0.3546  \u001b[0m | \u001b[0m 0.1     \u001b[0m | \u001b[0m 0.524   \u001b[0m | \u001b[0m 0.2914  \u001b[0m | \u001b[0m 0.7193  \u001b[0m | \u001b[0m 6.041   \u001b[0m | \u001b[0m 1.0     \u001b[0m | \u001b[0m 7.07    \u001b[0m | \u001b[0m 11.85   \u001b[0m | \u001b[0m 5.511   \u001b[0m | \u001b[0m 8.92    \u001b[0m | \u001b[0m 6.166   \u001b[0m | \u001b[0m 1.0     \u001b[0m |\n",
            "| \u001b[0m 20      \u001b[0m | \u001b[0m-0.3482  \u001b[0m | \u001b[0m 0.1     \u001b[0m | \u001b[0m 0.7699  \u001b[0m | \u001b[0m 0.1     \u001b[0m | \u001b[0m 0.9331  \u001b[0m | \u001b[0m 5.444   \u001b[0m | \u001b[0m 1.0     \u001b[0m | \u001b[0m 7.688   \u001b[0m | \u001b[0m 13.11   \u001b[0m | \u001b[0m 3.427   \u001b[0m | \u001b[0m 8.856   \u001b[0m | \u001b[0m 5.887   \u001b[0m | \u001b[0m 1.0     \u001b[0m |\n",
            "| \u001b[0m 21      \u001b[0m | \u001b[0m-0.3466  \u001b[0m | \u001b[0m 0.1     \u001b[0m | \u001b[0m 0.3792  \u001b[0m | \u001b[0m 0.1     \u001b[0m | \u001b[0m 1.0     \u001b[0m | \u001b[0m 4.576   \u001b[0m | \u001b[0m 0.9904  \u001b[0m | \u001b[0m 6.808   \u001b[0m | \u001b[0m 14.11   \u001b[0m | \u001b[0m 5.773   \u001b[0m | \u001b[0m 9.0     \u001b[0m | \u001b[0m 6.893   \u001b[0m | \u001b[0m 1.0     \u001b[0m |\n",
            "| \u001b[0m 22      \u001b[0m | \u001b[0m-0.351   \u001b[0m | \u001b[0m 0.1     \u001b[0m | \u001b[0m 0.1     \u001b[0m | \u001b[0m 0.1     \u001b[0m | \u001b[0m 1.0     \u001b[0m | \u001b[0m 7.138   \u001b[0m | \u001b[0m 1.0     \u001b[0m | \u001b[0m 5.141   \u001b[0m | \u001b[0m 13.94   \u001b[0m | \u001b[0m 4.849   \u001b[0m | \u001b[0m 9.0     \u001b[0m | \u001b[0m 6.353   \u001b[0m | \u001b[0m 1.0     \u001b[0m |\n",
            "| \u001b[0m 23      \u001b[0m | \u001b[0m-0.3439  \u001b[0m | \u001b[0m 0.1     \u001b[0m | \u001b[0m 0.2903  \u001b[0m | \u001b[0m 0.1     \u001b[0m | \u001b[0m 1.0     \u001b[0m | \u001b[0m 5.65    \u001b[0m | \u001b[0m 1.0     \u001b[0m | \u001b[0m 8.461   \u001b[0m | \u001b[0m 12.27   \u001b[0m | \u001b[0m 4.695   \u001b[0m | \u001b[0m 9.0     \u001b[0m | \u001b[0m 8.662   \u001b[0m | \u001b[0m 1.0     \u001b[0m |\n",
            "| \u001b[0m 24      \u001b[0m | \u001b[0m-0.3433  \u001b[0m | \u001b[0m 0.1     \u001b[0m | \u001b[0m 0.1     \u001b[0m | \u001b[0m 0.1     \u001b[0m | \u001b[0m 1.0     \u001b[0m | \u001b[0m 6.222   \u001b[0m | \u001b[0m 0.4878  \u001b[0m | \u001b[0m 6.993   \u001b[0m | \u001b[0m 13.18   \u001b[0m | \u001b[0m 4.925   \u001b[0m | \u001b[0m 6.422   \u001b[0m | \u001b[0m 7.356   \u001b[0m | \u001b[0m 1.0     \u001b[0m |\n",
            "| \u001b[0m 25      \u001b[0m | \u001b[0m-0.3562  \u001b[0m | \u001b[0m 0.1     \u001b[0m | \u001b[0m 1.0     \u001b[0m | \u001b[0m 0.1     \u001b[0m | \u001b[0m 0.1     \u001b[0m | \u001b[0m 3.965   \u001b[0m | \u001b[0m 1.0     \u001b[0m | \u001b[0m 8.8     \u001b[0m | \u001b[0m 12.14   \u001b[0m | \u001b[0m 5.46    \u001b[0m | \u001b[0m 7.384   \u001b[0m | \u001b[0m 6.736   \u001b[0m | \u001b[0m 1.0     \u001b[0m |\n",
            "| \u001b[0m 26      \u001b[0m | \u001b[0m-0.3572  \u001b[0m | \u001b[0m 0.1     \u001b[0m | \u001b[0m 1.0     \u001b[0m | \u001b[0m 1.0     \u001b[0m | \u001b[0m 0.1     \u001b[0m | \u001b[0m 7.13    \u001b[0m | \u001b[0m 1.0     \u001b[0m | \u001b[0m 6.55    \u001b[0m | \u001b[0m 13.44   \u001b[0m | \u001b[0m 6.287   \u001b[0m | \u001b[0m 8.41    \u001b[0m | \u001b[0m 8.946   \u001b[0m | \u001b[0m 1.0     \u001b[0m |\n",
            "| \u001b[0m 27      \u001b[0m | \u001b[0m-0.3478  \u001b[0m | \u001b[0m 0.1     \u001b[0m | \u001b[0m 0.7791  \u001b[0m | \u001b[0m 0.3744  \u001b[0m | \u001b[0m 1.0     \u001b[0m | \u001b[0m 8.325   \u001b[0m | \u001b[0m 1.0     \u001b[0m | \u001b[0m 6.789   \u001b[0m | \u001b[0m 11.53   \u001b[0m | \u001b[0m 3.425   \u001b[0m | \u001b[0m 8.207   \u001b[0m | \u001b[0m 7.215   \u001b[0m | \u001b[0m 1.0     \u001b[0m |\n",
            "| \u001b[95m 28      \u001b[0m | \u001b[95m-0.3396  \u001b[0m | \u001b[95m 0.544   \u001b[0m | \u001b[95m 0.8583  \u001b[0m | \u001b[95m 0.8195  \u001b[0m | \u001b[95m 0.47    \u001b[0m | \u001b[95m 6.712   \u001b[0m | \u001b[95m 0.2665  \u001b[0m | \u001b[95m 6.711   \u001b[0m | \u001b[95m 14.53   \u001b[0m | \u001b[95m 4.66    \u001b[0m | \u001b[95m 7.031   \u001b[0m | \u001b[95m 4.323   \u001b[0m | \u001b[95m 0.9524  \u001b[0m |\n",
            "| \u001b[0m 29      \u001b[0m | \u001b[0m-0.3565  \u001b[0m | \u001b[0m 0.1     \u001b[0m | \u001b[0m 0.1     \u001b[0m | \u001b[0m 0.1     \u001b[0m | \u001b[0m 0.1     \u001b[0m | \u001b[0m 7.447   \u001b[0m | \u001b[0m 1.0     \u001b[0m | \u001b[0m 5.645   \u001b[0m | \u001b[0m 11.69   \u001b[0m | \u001b[0m 4.05    \u001b[0m | \u001b[0m 6.834   \u001b[0m | \u001b[0m 4.432   \u001b[0m | \u001b[0m 1.0     \u001b[0m |\n",
            "| \u001b[0m 30      \u001b[0m | \u001b[0m-1.989   \u001b[0m | \u001b[0m 0.9     \u001b[0m | \u001b[0m 1.0     \u001b[0m | \u001b[0m 1.0     \u001b[0m | \u001b[0m 0.1     \u001b[0m | \u001b[0m 8.112   \u001b[0m | \u001b[0m 1.0     \u001b[0m | \u001b[0m 7.652   \u001b[0m | \u001b[0m 14.71   \u001b[0m | \u001b[0m 3.752   \u001b[0m | \u001b[0m 7.461   \u001b[0m | \u001b[0m 7.057   \u001b[0m | \u001b[0m 0.1     \u001b[0m |\n",
            "=========================================================================================================================================================================\n",
            "{'base_score': 0.5439944522117162, 'colsample_bylevel': 0.8582864959337522, 'colsample_bynode': 0.8194631826237838, 'colsample_bytree': 0.4699519734947256, 'gamma': 6.712422849816005, 'learning_rate': 0.26646556435189994, 'max_delta_step': 6.710792888543833, 'max_depth': 14.529025806637566, 'min_child_weight': 4.660355284574674, 'reg_alpha': 7.0308462273605, 'reg_lambda': 4.322705668210564, 'subsample': 0.9523862474303705}\n"
          ]
        }
      ]
    },
    {
      "cell_type": "code",
      "source": [
        "run_xgb(best_params, X, y)"
      ],
      "metadata": {
        "id": "190ZEEZ5Wk_W",
        "colab": {
          "base_uri": "https://localhost:8080/"
        },
        "outputId": "7dee516b-cbc0-4b26-f0f0-d621b2d67034"
      },
      "execution_count": 21,
      "outputs": [
        {
          "output_type": "execute_result",
          "data": {
            "text/plain": [
              "0.3372487"
            ]
          },
          "metadata": {},
          "execution_count": 21
        }
      ]
    },
    {
      "cell_type": "code",
      "source": [
        "bo_val_loss = []\n",
        "for i,res in enumerate(xgb_bo.res):\n",
        "    bo_val_loss.append(-1.0 * xgb_bo.res[i]['target'])    \n",
        "\n",
        "loss = np.array(bo_val_loss)\n",
        "np.minimum.accumulate(loss)\n",
        "plt.figure()\n",
        "plt.plot(np.minimum.accumulate(loss))"
      ],
      "metadata": {
        "colab": {
          "base_uri": "https://localhost:8080/",
          "height": 285
        },
        "id": "mJzztE-c4MRJ",
        "outputId": "fd190f7a-255f-43b6-9611-eeb4a4f6fbf8"
      },
      "execution_count": 24,
      "outputs": [
        {
          "output_type": "execute_result",
          "data": {
            "text/plain": [
              "[<matplotlib.lines.Line2D at 0x7ff439b19ed0>]"
            ]
          },
          "metadata": {},
          "execution_count": 24
        },
        {
          "output_type": "display_data",
          "data": {
            "text/plain": [
              "<Figure size 432x288 with 1 Axes>"
            ],
            "image/png": "[encoded data removed]"
          },
          "metadata": {
            "needs_background": "light"
          }
        }
      ]
    }
  ]
}